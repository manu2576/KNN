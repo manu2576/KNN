{
 "cells": [
  {
   "metadata": {
    "ExecuteTime": {
     "end_time": "2024-08-07T10:05:38.410218Z",
     "start_time": "2024-08-07T10:05:38.405541Z"
    }
   },
   "cell_type": "code",
   "source": [
    "import pandas as pd\n",
    "import numpy as np\n",
    "import sklearn as sklearn\n",
    "from sklearn import datasets\n",
    "from sklearn.model_selection import train_test_split\n",
    "from sklearn.neighbors import KNeighborsClassifier\n",
    "import matplotlib.pyplot as plt"
   ],
   "id": "c0df0eb586a7a731",
   "outputs": [],
   "execution_count": 185
  },
  {
   "metadata": {
    "ExecuteTime": {
     "end_time": "2024-08-07T10:05:38.928461Z",
     "start_time": "2024-08-07T10:05:38.913789Z"
    }
   },
   "cell_type": "code",
   "source": [
    "#Using the inbuilt Breast Cancer dataset from scikit-learn library\n",
    "bc = datasets.load_breast_cancer()\n",
    "X, y = bc.data, bc.target\n",
    "#Splitting the dataset into Training and Testing sets\n",
    "X_train, X_test, y_train, y_test = train_test_split(X, y, test_size=0.2, random_state=12)"
   ],
   "id": "8d8b051dea0e04aa",
   "outputs": [],
   "execution_count": 186
  },
  {
   "metadata": {
    "ExecuteTime": {
     "end_time": "2024-08-07T10:05:39.546978Z",
     "start_time": "2024-08-07T10:05:39.529436Z"
    }
   },
   "cell_type": "code",
   "source": [
    "model = KNeighborsClassifier()\n",
    "model.fit(X_train, y_train)\n",
    "accuracy = model.score(X_test, y_test)\n",
    "print(accuracy)"
   ],
   "id": "1a2069038de1c0a9",
   "outputs": [
    {
     "name": "stdout",
     "output_type": "stream",
     "text": [
      "0.8947368421052632\n"
     ]
    }
   ],
   "execution_count": 187
  },
  {
   "metadata": {},
   "cell_type": "markdown",
   "source": "NOW USE OUR KNN ALGORITHM FROM SCRATCH",
   "id": "5ed12f33be4c651e"
  },
  {
   "metadata": {
    "ExecuteTime": {
     "end_time": "2024-08-13T10:06:15.681426Z",
     "start_time": "2024-08-13T10:06:15.616649Z"
    }
   },
   "cell_type": "code",
   "source": [
    "import sys\n",
    "from sklearn import datasets\n",
    "sys.path.append('/Users/mnu/Desktop/machine learning/Pandas and numpy/models/algorithms/KNN/KNN_Algorithm')\n",
    "from KNN import KNN"
   ],
   "id": "25cbd7d7669a51f5",
   "outputs": [],
   "execution_count": 220
  },
  {
   "metadata": {
    "ExecuteTime": {
     "end_time": "2024-08-07T10:05:41.455601Z",
     "start_time": "2024-08-07T10:05:41.444189Z"
    }
   },
   "cell_type": "code",
   "source": [
    "#Using the inbuilt Breast Cancer dataset from scikit-learn library\n",
    "bc = datasets.load_breast_cancer()\n",
    "X, y = bc.data, bc.target\n",
    "#Splitting the dataset into Training and Testing sets\n",
    "X_train, X_test, y_train, y_test = train_test_split(X, y, test_size=0.2, random_state=12)"
   ],
   "id": "b2622c11a10055be",
   "outputs": [],
   "execution_count": 189
  },
  {
   "metadata": {
    "ExecuteTime": {
     "end_time": "2024-08-07T10:06:31.231886Z",
     "start_time": "2024-08-07T10:06:31.037395Z"
    }
   },
   "cell_type": "code",
   "source": [
    "model = KNN(k=10)\n",
    "model.fit(X_train, y_train)\n",
    "y_pred = model.predict(X_test)"
   ],
   "id": "2f715d491e122082",
   "outputs": [],
   "execution_count": 217
  },
  {
   "metadata": {
    "ExecuteTime": {
     "end_time": "2024-08-07T10:06:31.240033Z",
     "start_time": "2024-08-07T10:06:31.238028Z"
    }
   },
   "cell_type": "code",
   "source": [
    "def accuracy(y_true, y_pred):\n",
    "        return np.sum(y_true == y_pred) / len(y_true)"
   ],
   "id": "ea6693af97cc8385",
   "outputs": [],
   "execution_count": 218
  },
  {
   "metadata": {
    "ExecuteTime": {
     "end_time": "2024-08-07T10:06:31.408224Z",
     "start_time": "2024-08-07T10:06:31.405615Z"
    }
   },
   "cell_type": "code",
   "source": "print(\"The Accuracy of the model is:\",Accuracy(y_test, y_pred))",
   "id": "2997685687ea7d12",
   "outputs": [
    {
     "name": "stdout",
     "output_type": "stream",
     "text": [
      "The Accuracy of the model is: 0.8947368421052632\n"
     ]
    }
   ],
   "execution_count": 219
  },
  {
   "metadata": {},
   "cell_type": "code",
   "outputs": [],
   "execution_count": null,
   "source": "",
   "id": "85fd06b525850758"
  }
 ],
 "metadata": {
  "kernelspec": {
   "display_name": "Python 3",
   "language": "python",
   "name": "python3"
  },
  "language_info": {
   "codemirror_mode": {
    "name": "ipython",
    "version": 2
   },
   "file_extension": ".py",
   "mimetype": "text/x-python",
   "name": "python",
   "nbconvert_exporter": "python",
   "pygments_lexer": "ipython2",
   "version": "2.7.6"
  }
 },
 "nbformat": 4,
 "nbformat_minor": 5
}
